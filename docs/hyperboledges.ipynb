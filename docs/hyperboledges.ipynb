{
 "cells": [
  {
   "cell_type": "markdown",
   "id": "375e67ae-8c5f-40da-88cf-781d4bab4129",
   "metadata": {},
   "source": [
    "# Online Tree Metric Approximation through Hyperbolic Commute Kernels\n",
    "\n",
    "Building on the previous (observation-MSTs). \n",
    "\n",
    "What if the ultimate goal of an annotator was _specifically_ to extract tree-like structure, such as taxonomy. \n",
    "See: nickel & kiela, etc. \n",
    "In this case, we need to enforce a tree-like distance metric that is used prior to downstream \n",
    "(...)\n",
    "\n",
    "## Main idea\n",
    "\n",
    "Rather than simply using DS or a commute-kernel, we want a graph-smoothing process that _also_ biases the kernel toward being \"tree-like\". This is the hyperbolicity, and we can measure the distortion of a given metric space using the gromov product and the 4-point condition. \n",
    "\n",
    "We show that the use of an exponential map of a graph's Laplacian can be performed by viewing it as a grammian matrix of the vertices existing on a high-dimensional \"edge\" manifold. \n",
    "This is the same as using the incidence matrix (i.e.. the bipartite adjacency matrix of the Caley graph) as a set of \"observations\", with observations $V$ and feature space of dimension $\\|E\\|$. \n",
    "\n",
    "if we say the original vertices are data points $V\\in\\mathbb{R}^{\\|E\\|}$, then we actually recover exactly the original Laplacian $L$ as the linear kernel! \n",
    "\n",
    "Instead, we assume $V\\in\\mathcal{H}^{\\|E\\|}$, where $\\mathcal{H}^{n}$ is the n-dimensional upper-half plane (lorentzian) hyperbolic manifold embedded in $\\mathbb{R}^{n+1}$ \n",
    "We can now compute a \"hyperbolic laplacian\", by interpreting it as the exponential map of the linear kernel into the hyperbolic plane."
   ]
  },
  {
   "cell_type": "code",
   "execution_count": null,
   "id": "da85b1f8-4598-4447-82c1-fc12210d9a62",
   "metadata": {},
   "outputs": [],
   "source": []
  },
  {
   "cell_type": "markdown",
   "id": "474d8638-3ed2-4336-888f-9227b47aeb13",
   "metadata": {},
   "source": [
    "## Euclidean Case"
   ]
  },
  {
   "cell_type": "code",
   "execution_count": null,
   "id": "c877b7b8-d473-4844-877e-80dd3f5eb35a",
   "metadata": {},
   "outputs": [],
   "source": []
  }
 ],
 "metadata": {
  "jupytext": {
   "formats": "ipynb,md:myst"
  },
  "kernelspec": {
   "display_name": "affinis",
   "language": "python",
   "name": "affinis"
  },
  "language_info": {
   "codemirror_mode": {
    "name": "ipython",
    "version": 3
   },
   "file_extension": ".py",
   "mimetype": "text/x-python",
   "name": "python",
   "nbconvert_exporter": "python",
   "pygments_lexer": "ipython3",
   "version": "3.10.8"
  },
  "vscode": {
   "interpreter": {
    "hash": "916dbcbb3f70747c44a77c7bcd40155683ae19c65e1c03b4aa3499c5328201f1"
   }
  }
 },
 "nbformat": 4,
 "nbformat_minor": 5
}
